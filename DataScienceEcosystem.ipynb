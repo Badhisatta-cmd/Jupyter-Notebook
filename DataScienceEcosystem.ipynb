{
 "cells": [
  {
   "cell_type": "markdown",
   "id": "aed0a0f3-52bb-4daa-befc-d24ec52244ed",
   "metadata": {},
   "source": [
    "# Data Science Tools and Ecosystem"
   ]
  },
  {
   "cell_type": "markdown",
   "id": "e058e679-7a5e-4cd7-a94f-0c14c0eecb8f",
   "metadata": {},
   "source": [
    "In this notebook, Data Science Tools and Ecosystem are summarized."
   ]
  },
  {
   "cell_type": "markdown",
   "id": "a9a3de75-42da-4782-8423-ab92c2b0ddc0",
   "metadata": {},
   "source": [
    "| Objectives |\n",
    "|------------|\n",
    "| Some of the popular languages that Data Scientists use are |\n",
    "| Some of the commonly used libraries used by Data Scientists include |\n",
    "| Data Science Tools |\n",
    "| Below are a few examples of evaluating arithmetic expressions in Python |"
   ]
  },
  {
   "cell_type": "markdown",
   "id": "a8f62bcc-1bf7-46d4-bac1-beed7519f588",
   "metadata": {},
   "source": [
    "# Some of the popular languages that Data Scientists use are:\n",
    "1. Python\n",
    "2. R\n",
    "3. Julia\n",
    "4. Javascript "
   ]
  },
  {
   "cell_type": "markdown",
   "id": "652aef9f-9aaa-48ca-b4fb-118957588b1f",
   "metadata": {},
   "source": [
    "# Some of the commonly used libraries used by Data Scientists include:\n",
    "1. NumPy\n",
    "2. Pandas\n",
    "3. Matplotlib\n",
    "4. Seaborn"
   ]
  },
  {
   "cell_type": "markdown",
   "id": "c680b4d1-e096-408d-8411-dbedd658feb0",
   "metadata": {},
   "source": [
    "| Data Science Tools |\n",
    "|--------------------|\n",
    "| Jupyter Notebook|\n",
    "| Anaconda |\n",
    "| RStudio |\n",
    "| Google Colab |\n",
    "| Git & GitHub/GitLab |"
   ]
  },
  {
   "cell_type": "markdown",
   "id": "0740ce42-350f-4e12-9303-a48f378f85c9",
   "metadata": {},
   "source": [
    "# Below are a few examples of evaluating arithmetic expressions in Python\n",
    "- **Addition (`+`)** → `3 + 2 = 5`  \n",
    "- **Subtraction (`-`)** → `7 - 4 = 3`  \n",
    "- **Multiplication (`*`)** → `6 * 5 = 30`  \n",
    "- **Division (`/`)** → `10 / 2 = 5.0`  \n",
    "- **Floor Division (`//`)** → `10 // 3 = 3`  \n",
    "- **Modulus (`%`)** → `10 % 3 = 1`  \n",
    "- **Exponentiation (`**`)** → `2 ** 3 = 8`  \n"
   ]
  },
  {
   "cell_type": "code",
   "execution_count": 2,
   "id": "d44ca4b6-3ecc-4655-b4cb-fb0a8c9f97ad",
   "metadata": {},
   "outputs": [
    {
     "name": "stdout",
     "output_type": "stream",
     "text": [
      "17\n"
     ]
    }
   ],
   "source": [
    "# This a simple arithmetic expression to mutiply then add integers\n",
    "print((3*4)+5)"
   ]
  },
  {
   "cell_type": "code",
   "execution_count": 4,
   "id": "a0c3a927-2eaa-46c7-8788-6de412f5d73d",
   "metadata": {},
   "outputs": [
    {
     "name": "stdout",
     "output_type": "stream",
     "text": [
      " 200\n"
     ]
    },
    {
     "name": "stdout",
     "output_type": "stream",
     "text": [
      "3.3333333333333335\n"
     ]
    }
   ],
   "source": [
    "# This will convert 200 minutes to hours by diving by 60.\n",
    "m=int(input())\n",
    "h=m/60\n",
    "print(h)"
   ]
  },
  {
   "cell_type": "markdown",
   "id": "9dc26058-1dde-48a4-b0bd-13f1b0ef6cf7",
   "metadata": {},
   "source": [
    "## Author\n",
    "Badhisatta Banerjee"
   ]
  }
 ],
 "metadata": {
  "kernelspec": {
   "display_name": "Python 3 (ipykernel)",
   "language": "python",
   "name": "python3"
  },
  "language_info": {
   "codemirror_mode": {
    "name": "ipython",
    "version": 3
   },
   "file_extension": ".py",
   "mimetype": "text/x-python",
   "name": "python",
   "nbconvert_exporter": "python",
   "pygments_lexer": "ipython3",
   "version": "3.12.8"
  }
 },
 "nbformat": 4,
 "nbformat_minor": 5
}
